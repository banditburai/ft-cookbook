{
 "cells": [
  {
   "cell_type": "code",
   "execution_count": 81,
   "metadata": {},
   "outputs": [],
   "source": [
    "# !uv add git+https://github.com/banditburai/ft-jupyter.git"
   ]
  },
  {
   "cell_type": "code",
   "execution_count": 82,
   "metadata": {},
   "outputs": [],
   "source": [
    "# !uv remove ft-jupyter"
   ]
  },
  {
   "cell_type": "code",
   "execution_count": 83,
   "metadata": {},
   "outputs": [],
   "source": [
    "import time\n",
    "\n",
    "try:\n",
    "    manager.stop()  # type: ignore\n",
    "    time.sleep(1)  # Wait for cleanup\n",
    "except NameError:\n",
    "    pass  # manager not defined yet, that's ok"
   ]
  },
  {
   "cell_type": "code",
   "execution_count": 84,
   "metadata": {},
   "outputs": [
    {
     "data": {
      "text/html": [
       "\n",
       "<script>\n",
       "document.body.addEventListener('htmx:configRequest', (event) => {\n",
       "    if(event.detail.path.includes('://')) return;\n",
       "    htmx.config.selfRequestsOnly=false;\n",
       "    event.detail.path = `${location.protocol}//${location.hostname}:8000${event.detail.path}`;\n",
       "});\n",
       "</script>"
      ],
      "text/plain": [
       "<IPython.core.display.HTML object>"
      ]
     },
     "metadata": {},
     "output_type": "display_data"
    },
    {
     "data": {
      "text/html": [
       "<a href=\"http://localhost:8000/\" target=\"_blank\">View home page</a>"
      ],
      "text/plain": [
       "<IPython.core.display.HTML object>"
      ]
     },
     "metadata": {},
     "output_type": "display_data"
    },
    {
     "data": {
      "text/plain": [
       "Page(route='home', elements=1, url='http://localhost:8000/')"
      ]
     },
     "execution_count": 84,
     "metadata": {},
     "output_type": "execute_result"
    }
   ],
   "source": [
    "from ft_jupyter import PageManager\n",
    "from fasthtml.common import *\n",
    "\n",
    "manager = PageManager()\n",
    "\n",
    "home = manager.create_page(\"\") # index route\n",
    "\n",
    "home.add(\n",
    "    H1(\"FastHTML Cookbook\", \n",
    "       _class=\"page-title\", \n",
    "       **{\n",
    "           \"data-date\": \"2024-12-10\",\n",
    "           \"data-icon\": \"👩‍🍳\"\n",
    "       })\n",
    ")"
   ]
  },
  {
   "cell_type": "code",
   "execution_count": 85,
   "metadata": {},
   "outputs": [],
   "source": [
    "# page title styles\n",
    "manager.add_to_all( \n",
    "Style(\"\"\"\n",
    ".page-title {\n",
    "    font-family: \"Segoe UI\", Arial, sans-serif;\n",
    "    display: flex;\n",
    "    align-items: center;\n",
    "    gap: 1rem;\n",
    "    color: #333;\n",
    "    margin: 1rem 0;\n",
    "    flex-wrap: wrap;\n",
    "}\n",
    "\n",
    ".page-title::before {\n",
    "    content: attr(data-icon);\n",
    "    font-size: 1.2em;\n",
    "}\n",
    "\n",
    ".page-title::after {\n",
    "    content: \"Last modified: \" attr(data-date);\n",
    "    font-size: 0.7em;\n",
    "    color: #666;\n",
    "    margin-left: auto;\n",
    "}\n",
    "\n",
    "/* Responsive adjustments */\n",
    "@media (max-width: 640px) {\n",
    "    .page-title {\n",
    "        gap: 0.5rem;\n",
    "    }\n",
    "    \n",
    "    .page-title::after {\n",
    "        margin-left: 0;\n",
    "        flex-basis: 100%;\n",
    "        margin-top: 0.2rem;\n",
    "        font-size: 0.6em;  \n",
    "        color: #888;      \n",
    "    }\n",
    "}\n",
    "\n",
    "/* Even smaller screens */\n",
    "@media (max-width: 380px) {\n",
    "    .page-title {\n",
    "        font-size: 1.5rem;\n",
    "    }\n",
    "    \n",
    "    .page-title::after {\n",
    "        margin-top: 0.15rem; \n",
    "        font-size: 0.55em;\n",
    "    }\n",
    "}\n",
    "      \"\"\")\n",
    ")"
   ]
  },
  {
   "cell_type": "code",
   "execution_count": 86,
   "metadata": {},
   "outputs": [],
   "source": [
    "def ExampleLink(*, title: str, path: str = \"#\", icon: str = \"📄\", date: str = \"2024-03-14\", disabled: bool = False):\n",
    "    \"\"\"Create a Windows Explorer style link to an example\"\"\"\n",
    "    attrs = {\n",
    "        \"data-icon\": icon,\n",
    "    }\n",
    "    \n",
    "    # Add either date or status icon depending on disabled state\n",
    "    if disabled:\n",
    "        attrs[\"data-status\"] = \"🚧\"\n",
    "    else:\n",
    "        attrs[\"data-date\"] = date\n",
    "\n",
    "    return A(\n",
    "        title + (\" (Coming Soon)\" if disabled else \"\"),\n",
    "        href=path if not disabled else \"javascript:void(0)\",\n",
    "        cls=f\"example-link {'disabled' if disabled else ''}\",\n",
    "        **attrs\n",
    "    )\n",
    "\n",
    "def ExampleFolder(*, title: str, examples: list, icon: str = \"📁\"):\n",
    "    \"\"\"Create a Windows Explorer style folder\"\"\"\n",
    "    return Div(\n",
    "        H2(title, _class=\"folder-title\", **{\"data-icon\": icon}),\n",
    "        Div(*examples, _class=\"folder-content\"),\n",
    "        cls=\"example-folder\",\n",
    "        **{\"data-item-count\": len(examples)}\n",
    "    )"
   ]
  },
  {
   "cell_type": "code",
   "execution_count": 87,
   "metadata": {},
   "outputs": [
    {
     "data": {
      "text/plain": [
       "Page(route='home', elements=4, url='http://localhost:8000/')"
      ]
     },
     "execution_count": 87,
     "metadata": {},
     "output_type": "execute_result"
    }
   ],
   "source": [
    "# Usage:\n",
    "home.add(\n",
    "    ExampleFolder(\n",
    "        title=\"State Management\",\n",
    "        examples=[\n",
    "            ExampleLink(\n",
    "                title=\"State Patterns\",\n",
    "                path=\"/state-patterns\",\n",
    "                date=\"2024-12-10\"\n",
    "            ),\n",
    "            ExampleLink(\n",
    "                title=\"Form Validation\",\n",
    "                disabled=True,                \n",
    "            )\n",
    "        ]\n",
    "    ),\n",
    "    ExampleFolder(\n",
    "        title=\"UI Patterns\",\n",
    "        examples=[\n",
    "            ExampleLink(\n",
    "                title=\"Infinite Scroll\",\n",
    "                disabled=True,                \n",
    "            ),\n",
    "            ExampleLink(\n",
    "                title=\"Modal Dialogs\",\n",
    "                disabled=True,                \n",
    "            )\n",
    "        ]\n",
    "    )\n",
    ")"
   ]
  },
  {
   "cell_type": "code",
   "execution_count": 88,
   "metadata": {},
   "outputs": [],
   "source": [
    "manager.add_to_all(\n",
    "    Style(\"\"\"\n",
    "        /* Windows Explorer container */\n",
    "        .example-folder {\n",
    "            background: white;\n",
    "            border: 1px solid #CCCEDB;\n",
    "            margin: 1rem 0;\n",
    "        }\n",
    "\n",
    "        /* Folder header - Windows style */\n",
    "        .folder-title {\n",
    "            background: #000080;  /* Classic Windows blue */\n",
    "            color: white;\n",
    "            padding: 0.5rem;\n",
    "            margin: 0;\n",
    "            font-family: \"Segoe UI\", Arial, sans-serif;\n",
    "            font-size: 1rem;\n",
    "            font-weight: normal;\n",
    "            display: flex;\n",
    "            align-items: center;\n",
    "        }\n",
    "\n",
    "        .folder-title::before {\n",
    "            content: attr(data-icon);\n",
    "            margin-right: 0.5rem;\n",
    "            font-size: 1.2em;\n",
    "        }\n",
    "\n",
    "        /* Content area */\n",
    "        .folder-content {\n",
    "            padding: 0.25rem;\n",
    "            display: grid;\n",
    "            grid-template-columns: repeat(auto-fill, minmax(280px, 1fr));\n",
    "            gap: 0.125rem;\n",
    "            background: white;\n",
    "        }\n",
    "\n",
    "        /* File items */\n",
    "        .example-link {\n",
    "            display: flex;\n",
    "            align-items: center;\n",
    "            padding: 0.4rem 0.5rem;\n",
    "            color: #000;  /* Black text for all links */\n",
    "            text-decoration: none;  /* Remove underline */\n",
    "            font-family: \"Segoe UI\", Arial, sans-serif;\n",
    "            font-size: 0.9rem;\n",
    "            border: 1px solid transparent;\n",
    "            position: relative;\n",
    "            min-height: 24px;\n",
    "        }\n",
    "\n",
    "        /* Icon and date for all links */\n",
    "        .example-link::before {\n",
    "            content: attr(data-icon);\n",
    "            margin-right: 0.5rem;\n",
    "            font-size: 1.1em;\n",
    "        }\n",
    "\n",
    "        .example-link::after {\n",
    "            content: attr(data-date);\n",
    "            position: absolute;\n",
    "            right: 0.5rem;\n",
    "            color: #666;\n",
    "            font-size: 0.85em;\n",
    "        }\n",
    "\n",
    "        /* Hover state for all links */\n",
    "        .example-link:hover {\n",
    "            background: #E5F3FF;\n",
    "            border: 1px solid #99D1FF;\n",
    "        }\n",
    "\n",
    "        /* Active state for all links */\n",
    "        .example-link:active {\n",
    "            background: #CCE8FF;\n",
    "            border: 1px solid #99D1FF;\n",
    "        }\n",
    "\n",
    "        /* Only difference for disabled links is opacity and cursor */\n",
    "        .example-link.disabled {\n",
    "            opacity: 0.7;\n",
    "            cursor: not-allowed;\n",
    "        }\n",
    "          \n",
    "        .example-link::after {\n",
    "            position: absolute;\n",
    "            right: 0.5rem;\n",
    "            color: #666;\n",
    "            font-size: 0.85em;\n",
    "        }\n",
    "\n",
    "        /* Show date for enabled links */\n",
    "        .example-link:not(.disabled)::after {\n",
    "            content: attr(data-date);\n",
    "        }\n",
    "\n",
    "        /* Show status icon for disabled links */\n",
    "        .example-link.disabled::after {\n",
    "            content: attr(data-status);\n",
    "            font-size: 1em;  /* Make icon slightly larger */\n",
    "        }\n",
    "        /* Status bar */\n",
    "        .example-folder::after {\n",
    "            content: attr(data-item-count) \" items\";\n",
    "            display: block;\n",
    "            background: #F0F0F0;\n",
    "            padding: 0.25rem 0.5rem;\n",
    "            font-size: 0.8rem;\n",
    "            border-top: 1px solid #CCCEDB;\n",
    "            color: #666;\n",
    "            font-family: \"Segoe UI\", Arial, sans-serif;\n",
    "        }\n",
    "\n",
    "        /* Responsive adjustments */\n",
    "        @media (max-width: 640px) {\n",
    "            .folder-content {\n",
    "                grid-template-columns: 1fr;\n",
    "            }\n",
    "            \n",
    "            .example-link::after {\n",
    "                font-size: 0.75em;\n",
    "            }\n",
    "        }\n",
    "    \"\"\")\n",
    ")"
   ]
  },
  {
   "cell_type": "code",
   "execution_count": null,
   "metadata": {},
   "outputs": [],
   "source": []
  },
  {
   "cell_type": "code",
   "execution_count": 89,
   "metadata": {},
   "outputs": [],
   "source": [
    "# manager.stop()"
   ]
  }
 ],
 "metadata": {
  "kernelspec": {
   "display_name": ".venv",
   "language": "python",
   "name": "python3"
  },
  "language_info": {
   "codemirror_mode": {
    "name": "ipython",
    "version": 3
   },
   "file_extension": ".py",
   "mimetype": "text/x-python",
   "name": "python",
   "nbconvert_exporter": "python",
   "pygments_lexer": "ipython3",
   "version": "3.11.10"
  }
 },
 "nbformat": 4,
 "nbformat_minor": 2
}
